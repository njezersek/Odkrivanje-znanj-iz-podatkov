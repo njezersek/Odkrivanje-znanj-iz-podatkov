{
 "cells": [
  {
   "cell_type": "code",
   "execution_count": 116,
   "metadata": {},
   "outputs": [],
   "source": [
    "import requests\n",
    "import itertools\n",
    "import re\n",
    "import random\n",
    "import time\n",
    "from lxml import html"
   ]
  },
  {
   "cell_type": "code",
   "execution_count": 163,
   "metadata": {},
   "outputs": [],
   "source": [
    "langs = [\n",
    "\t\"eng\", \"deu\", \"swe\", \"nld\", # germanski\n",
    "\t\"ita\", \"por\", \"spa\", \"fra\", # romanski\n",
    "\t\"slv\", \"hrv\", \"srp\", \"rus\", # slovanski\n",
    "\t\"hin\", \"ell\", \"arb\", \"hun\", # ostalo\n",
    "\t\"zho\", \"fin\", \"jpn\", \"kor\"\n",
    "]\n",
    "\n",
    "data = {}"
   ]
  },
  {
   "cell_type": "code",
   "execution_count": 178,
   "metadata": {},
   "outputs": [
    {
     "name": "stdout",
     "output_type": "stream",
     "text": [
      "eng\n",
      "deu\n",
      "swe\n",
      "nld\n",
      "ita\n",
      "por\n",
      "spa\n",
      "fra\n",
      "slv\n",
      "hrv\n",
      "srp\n",
      "rus\n",
      "hin\n",
      "ell\n",
      "arb\n",
      "hun\n",
      "zho\n",
      "fin\n",
      "jpn\n",
      "kor\n"
     ]
    }
   ],
   "source": [
    "for lang in langs: # poišči vse verzije biblije za dan jezik\n",
    "\tversions_res = requests.get(\"https://bible.youversionapi.com/3.2/versions.json\", params={\"language_tag\": lang, \"type\": \"all\"}).json()\n",
    "\tok = False\n",
    "\tprint(lang)\n",
    "\tif data[lang] and len(data[lang]['books']) >= 66: continue # preskoči jezike ki jih že imaš\n",
    "\ttime.sleep(1)\n",
    "\tfor version in versions_res[\"response\"][\"data\"][\"versions\"]: # poišči tako verzijo, ki ima vse* knjige\n",
    "\t\tid = version['id']\n",
    "\t\tbooks_res = requests.get(f\"https://bible.youversionapi.com/3.2/version.json?id={id}\").json()\n",
    "\t\tbooks = books_res[\"response\"][\"data\"][\"books\"]\n",
    "\t\t# print(len(books))\n",
    "\t\tif len(books) >= 66:\n",
    "\t\t\tdata[lang] = {\"id\": id, \"books\": books}\n",
    "\t\t\tok = True\n",
    "\t\t\tbreak\n",
    "\tif not ok: print(f\"'{lang}' missing books!\")"
   ]
  },
  {
   "cell_type": "code",
   "execution_count": 204,
   "metadata": {},
   "outputs": [
    {
     "name": "stdout",
     "output_type": "stream",
     "text": [
      "['ZEC', 'LUK', 'ISA', 'NUM', 'JUD']\n"
     ]
    }
   ],
   "source": [
    "# izberi 5 knjig\n",
    "books_intersection = set(map(lambda b: b[\"usfm\"], data[langs[0]]['books']))\n",
    "for lang in langs:\n",
    "\tbooks = set(map(lambda b: b[\"usfm\"], data[langs[0]]['books']))\n",
    "\tbooks_intersection = books_intersection.intersection(books)\n",
    "\n",
    "selected_books = random.sample(books_intersection, k=5)\n",
    "print(selected_books)"
   ]
  },
  {
   "cell_type": "code",
   "execution_count": 201,
   "metadata": {},
   "outputs": [],
   "source": [
    "def clean(content):\n",
    "\tdom = html.fromstring(re.sub(\"</\", \" </\", content))\n",
    "\tfor el in itertools.chain(dom.find_class(\"label\"), dom.find_class(\"heading\")):\n",
    "\t\tel.getparent().remove(el)\n",
    "\treturn re.sub('\\s+',' ',dom.text_content())"
   ]
  },
  {
   "cell_type": "code",
   "execution_count": 208,
   "metadata": {},
   "outputs": [
    {
     "name": "stdout",
     "output_type": "stream",
     "text": [
      "ell NUM\n",
      "https://bible.youversionapi.com/3.2/chapter.json?id=921&reference=NUM.1\n"
     ]
    },
    {
     "ename": "KeyError",
     "evalue": "'content'",
     "output_type": "error",
     "traceback": [
      "\u001b[1;31m---------------------------------------------------------------------------\u001b[0m",
      "\u001b[1;31mKeyError\u001b[0m                                  Traceback (most recent call last)",
      "\u001b[1;32m~\\AppData\\Local\\Temp/ipykernel_22388/2316241920.py\u001b[0m in \u001b[0;36m<module>\u001b[1;34m\u001b[0m\n\u001b[0;32m     11\u001b[0m                                 \u001b[0mres\u001b[0m \u001b[1;33m=\u001b[0m \u001b[0mrequests\u001b[0m\u001b[1;33m.\u001b[0m\u001b[0mget\u001b[0m\u001b[1;33m(\u001b[0m\u001b[1;34mf\"https://bible.youversionapi.com/3.2/chapter.json?id={data[lang]['id']}&reference={chapter['usfm']}\"\u001b[0m\u001b[1;33m)\u001b[0m\u001b[1;33m.\u001b[0m\u001b[0mjson\u001b[0m\u001b[1;33m(\u001b[0m\u001b[1;33m)\u001b[0m\u001b[1;33m\u001b[0m\u001b[1;33m\u001b[0m\u001b[0m\n\u001b[0;32m     12\u001b[0m                                 \u001b[0mprint\u001b[0m\u001b[1;33m(\u001b[0m\u001b[1;34mf\"https://bible.youversionapi.com/3.2/chapter.json?id={data[lang]['id']}&reference={chapter['usfm']}\"\u001b[0m\u001b[1;33m)\u001b[0m\u001b[1;33m\u001b[0m\u001b[1;33m\u001b[0m\u001b[0m\n\u001b[1;32m---> 13\u001b[1;33m                                 \u001b[0mtext\u001b[0m \u001b[1;33m+=\u001b[0m \u001b[0mclean\u001b[0m\u001b[1;33m(\u001b[0m\u001b[0mres\u001b[0m\u001b[1;33m[\u001b[0m\u001b[1;34m\"response\"\u001b[0m\u001b[1;33m]\u001b[0m\u001b[1;33m[\u001b[0m\u001b[1;34m\"data\"\u001b[0m\u001b[1;33m]\u001b[0m\u001b[1;33m[\u001b[0m\u001b[1;34m\"content\"\u001b[0m\u001b[1;33m]\u001b[0m\u001b[1;33m)\u001b[0m\u001b[1;33m\u001b[0m\u001b[1;33m\u001b[0m\u001b[0m\n\u001b[0m\u001b[0;32m     14\u001b[0m                                 \u001b[1;32mif\u001b[0m \u001b[0mlen\u001b[0m\u001b[1;33m(\u001b[0m\u001b[0mtext\u001b[0m\u001b[1;33m)\u001b[0m \u001b[1;33m>\u001b[0m \u001b[1;36m1000\u001b[0m\u001b[1;33m:\u001b[0m \u001b[1;32mbreak\u001b[0m\u001b[1;33m\u001b[0m\u001b[1;33m\u001b[0m\u001b[0m\n\u001b[0;32m     15\u001b[0m                         \u001b[0mdata\u001b[0m\u001b[1;33m[\u001b[0m\u001b[0mlang\u001b[0m\u001b[1;33m]\u001b[0m\u001b[1;33m[\u001b[0m\u001b[1;34m'books_text'\u001b[0m\u001b[1;33m]\u001b[0m\u001b[1;33m[\u001b[0m\u001b[0mbook\u001b[0m\u001b[1;33m[\u001b[0m\u001b[1;34m\"usfm\"\u001b[0m\u001b[1;33m]\u001b[0m\u001b[1;33m]\u001b[0m \u001b[1;33m=\u001b[0m \u001b[0mtext\u001b[0m\u001b[1;33m\u001b[0m\u001b[1;33m\u001b[0m\u001b[0m\n",
      "\u001b[1;31mKeyError\u001b[0m: 'content'"
     ]
    }
   ],
   "source": [
    "for lang in data:\n",
    "\tif not data[lang]['books_text']:\n",
    "\t\tdata[lang]['books_text'] = {}\n",
    "\tfor book in data[lang][\"books\"]:\n",
    "\t\tif book[\"usfm\"] in selected_books:\n",
    "\t\t\tprint(lang, book[\"usfm\"])\n",
    "\t\t\tif data[lang]['books_text'].get(book[\"usfm\"], False): continue\n",
    "\t\t\ttext = \"\"\n",
    "\t\t\tfor chapter in book[\"chapters\"]:\n",
    "\t\t\t\ttime.sleep(0.1)\n",
    "\t\t\t\tres = requests.get(f\"https://bible.youversionapi.com/3.2/chapter.json?id={data[lang]['id']}&reference={chapter['usfm']}\").json()\n",
    "\t\t\t\tprint(f\"https://bible.youversionapi.com/3.2/chapter.json?id={data[lang]['id']}&reference={chapter['usfm']}\")\n",
    "\t\t\t\ttext += clean(res[\"response\"][\"data\"][\"content\"])\n",
    "\t\t\t\tif len(text) > 1000: break\n",
    "\t\t\tdata[lang]['books_text'][book[\"usfm\"]] = text"
   ]
  },
  {
   "cell_type": "code",
   "execution_count": 211,
   "metadata": {},
   "outputs": [
    {
     "data": {
      "text/plain": [
       "3"
      ]
     },
     "execution_count": 211,
     "metadata": {},
     "output_type": "execute_result"
    }
   ],
   "source": [
    "list(map(lambda b: b['usfm'], data[\"ell\"][\"books\"])).index(\"NUM\")"
   ]
  },
  {
   "cell_type": "code",
   "execution_count": 218,
   "metadata": {},
   "outputs": [
    {
     "data": {
      "text/plain": [
       "2318"
      ]
     },
     "execution_count": 218,
     "metadata": {},
     "output_type": "execute_result"
    }
   ],
   "source": [
    "data[\"slv\"][\"id\"]"
   ]
  },
  {
   "cell_type": "code",
   "execution_count": 217,
   "metadata": {},
   "outputs": [
    {
     "data": {
      "text/plain": [
       "{'text': True,\n",
       " 'canon': 'ot',\n",
       " 'chapters': [{'toc': True, 'usfm': 'NUM.1', 'human': '1', 'canonical': True},\n",
       "  {'toc': True, 'usfm': 'NUM.2', 'human': '2', 'canonical': True},\n",
       "  {'toc': True, 'usfm': 'NUM.3', 'human': '3', 'canonical': True},\n",
       "  {'toc': True, 'usfm': 'NUM.4', 'human': '4', 'canonical': True},\n",
       "  {'toc': True, 'usfm': 'NUM.5', 'human': '5', 'canonical': True},\n",
       "  {'toc': True, 'usfm': 'NUM.6', 'human': '6', 'canonical': True},\n",
       "  {'toc': True, 'usfm': 'NUM.7', 'human': '7', 'canonical': True},\n",
       "  {'toc': True, 'usfm': 'NUM.8', 'human': '8', 'canonical': True},\n",
       "  {'toc': True, 'usfm': 'NUM.9', 'human': '9', 'canonical': True},\n",
       "  {'toc': True, 'usfm': 'NUM.10', 'human': '10', 'canonical': True},\n",
       "  {'toc': True, 'usfm': 'NUM.11', 'human': '11', 'canonical': True},\n",
       "  {'toc': True, 'usfm': 'NUM.12', 'human': '12', 'canonical': True},\n",
       "  {'toc': True, 'usfm': 'NUM.13', 'human': '13', 'canonical': True},\n",
       "  {'toc': True, 'usfm': 'NUM.14', 'human': '14', 'canonical': True},\n",
       "  {'toc': True, 'usfm': 'NUM.15', 'human': '15', 'canonical': True},\n",
       "  {'toc': True, 'usfm': 'NUM.16', 'human': '16', 'canonical': True},\n",
       "  {'toc': True, 'usfm': 'NUM.17', 'human': '17', 'canonical': True},\n",
       "  {'toc': True, 'usfm': 'NUM.18', 'human': '18', 'canonical': True},\n",
       "  {'toc': True, 'usfm': 'NUM.19', 'human': '19', 'canonical': True},\n",
       "  {'toc': True, 'usfm': 'NUM.20', 'human': '20', 'canonical': True},\n",
       "  {'toc': True, 'usfm': 'NUM.21', 'human': '21', 'canonical': True},\n",
       "  {'toc': True, 'usfm': 'NUM.22', 'human': '22', 'canonical': True},\n",
       "  {'toc': True, 'usfm': 'NUM.23', 'human': '23', 'canonical': True},\n",
       "  {'toc': True, 'usfm': 'NUM.24', 'human': '24', 'canonical': True},\n",
       "  {'toc': True, 'usfm': 'NUM.25', 'human': '25', 'canonical': True},\n",
       "  {'toc': True, 'usfm': 'NUM.26', 'human': '26', 'canonical': True},\n",
       "  {'toc': True, 'usfm': 'NUM.27', 'human': '27', 'canonical': True},\n",
       "  {'toc': True, 'usfm': 'NUM.28', 'human': '28', 'canonical': True},\n",
       "  {'toc': True, 'usfm': 'NUM.29', 'human': '29', 'canonical': True},\n",
       "  {'toc': True, 'usfm': 'NUM.30', 'human': '30', 'canonical': True},\n",
       "  {'toc': True, 'usfm': 'NUM.31', 'human': '31', 'canonical': True},\n",
       "  {'toc': True, 'usfm': 'NUM.32', 'human': '32', 'canonical': True},\n",
       "  {'toc': True, 'usfm': 'NUM.33', 'human': '33', 'canonical': True},\n",
       "  {'toc': True, 'usfm': 'NUM.34', 'human': '34', 'canonical': True},\n",
       "  {'toc': True, 'usfm': 'NUM.35', 'human': '35', 'canonical': True},\n",
       "  {'toc': True, 'usfm': 'NUM.36', 'human': '36', 'canonical': True}],\n",
       " 'usfm': 'NUM',\n",
       " 'abbreviation': 'ΑΡΙΘΜΟΙ',\n",
       " 'human': 'ΑΡΙΘΜΟΙ',\n",
       " 'audio': False,\n",
       " 'human_long': 'ΑΡΙΘΜΟΙ'}"
      ]
     },
     "execution_count": 217,
     "metadata": {},
     "output_type": "execute_result"
    }
   ],
   "source": [
    "data[\"ell\"][\"books\"][3]"
   ]
  },
  {
   "cell_type": "code",
   "execution_count": 86,
   "metadata": {},
   "outputs": [],
   "source": [
    "# get books\n",
    "res = requests.get(\"https://bible.youversionapi.com/3.2/chapter.json?id=1&reference=JHN.1\").json()"
   ]
  },
  {
   "cell_type": "code",
   "execution_count": 202,
   "metadata": {},
   "outputs": [
    {
     "data": {
      "text/plain": [
       "\" In the beginning was the Word, and the Word was with God, and the Word was God. The same was in the beginning with God. All things were made by him; and without him was not any thing made that was made. In him was life; and the life was the light of men. And the light shineth in darkness; and the darkness comprehended it not. There was a man sent from God, whose name was John. The same came for a witness, to bear witness of the Light, that all men through him might believe. He was not that Light, but was sent to bear witness of that Light. That was the true Light, which lighteth every man that cometh into the world. He was in the world, and the world was made by him, and the world knew him not. He came unto his own, and his own received him not. But as many as received him, to them gave he power to become the sons of God, even to them that believe on his name: which were born, not of blood, nor of the will of the flesh, nor of the will of man, but of God. And the Word was made flesh, and dwelt among us, (and we beheld his glory, the glory as of the only begotten of the Father,) full of grace and truth. John bare witness of him, and cried, saying, This was he of whom I spake, He that cometh after me is preferred before me: for he was before me. And of his fulness have all we received, and grace for grace. For the law was given by Moses, but grace and truth came by Jesus Christ. No man hath seen God at any time; the only begotten Son, which is in the bosom of the Father, he hath declared him . And this is the record of John, when the Jews sent priests and Levites from Jerusalem to ask him, Who art thou? And he confessed, and denied not; but confessed, I am not the Christ. And they asked him, What then? Art thou Elias? And he saith, I am not. Art thou that prophet? And he answered, No. Then said they unto him, Who art thou? that we may give an answer to them that sent us. What sayest thou of thyself? He said, I am the voice of one crying in the wilderness, Make straight the way of the Lord, as said the prophet Esaias. And they which were sent were of the Pharisees. And they asked him, and said unto him, Why baptizest thou then, if thou be not that Christ, nor Elias, neither that prophet? John answered them, saying, I baptize with water: but there standeth one among you, whom ye know not; he it is, who coming after me is preferred before me, whose shoe's latchet I am not worthy to unloose. These things were done in Bethabara beyond Jordan, where John was baptizing. The next day John seeth Jesus coming unto him, and saith, Behold the Lamb of God, which taketh away the sin of the world. This is he of whom I said, After me cometh a man which is preferred before me: for he was before me. And I knew him not: but that he should be made manifest to Israel, therefore am I come baptizing with water. And John bare record, saying, I saw the Spirit descending from heaven like a dove, and it abode upon him. And I knew him not: but he that sent me to baptize with water, the same said unto me, Upon whom thou shalt see the Spirit descending, and remaining on him, the same is he which baptizeth with the Holy Ghost. And I saw, and bare record that this is the Son of God. Again the next day after John stood, and two of his disciples; and looking upon Jesus as he walked, he saith, Behold the Lamb of God! And the two disciples heard him speak, and they followed Jesus. Then Jesus turned, and saw them following, and saith unto them, What seek ye? They said unto him, Rabbi, (which is to say, being interpreted, Master,) where dwellest thou? He saith unto them, Come and see. They came and saw where he dwelt, and abode with him that day: for it was about the tenth hour. One of the two which heard John speak , and followed him, was Andrew, Simon Peter's brother. He first findeth his own brother Simon, and saith unto him, We have found the Messias, which is, being interpreted, the Christ. And he brought him to Jesus. And when Jesus beheld him, he said, Thou art Simon the son of Jona: thou shalt be called Cephas, which is by interpretation, A stone. The day following Jesus would go forth into Galilee, and findeth Philip, and saith unto him, Follow me. Now Philip was of Bethsaida, the city of Andrew and Peter. Philip findeth Nathanael, and saith unto him, We have found him, of whom Moses in the law, and the prophets, did write, Jesus of Nazareth, the son of Joseph. And Nathanael said unto him, Can there any good thing come out of Nazareth? Philip saith unto him, Come and see. Jesus saw Nathanael coming to him, and saith of him, Behold an Israelite indeed, in whom is no guile! Nathanael saith unto him, Whence knowest thou me? Jesus answered and said unto him, Before that Philip called thee, when thou wast under the fig tree, I saw thee. Nathanael answered and saith unto him, Rabbi, thou art the Son of God; thou art the King of Israel. Jesus answered and said unto him, Because I said unto thee, I saw thee under the fig tree, believest thou? thou shalt see greater things than these. And he saith unto him, Verily, verily, I say unto you, Hereafter ye shall see heaven open, and the angels of God ascending and descending upon the Son of man. \""
      ]
     },
     "execution_count": 202,
     "metadata": {},
     "output_type": "execute_result"
    }
   ],
   "source": [
    "clean(res[\"response\"][\"data\"][\"content\"])"
   ]
  },
  {
   "cell_type": "code",
   "execution_count": 2,
   "metadata": {},
   "outputs": [
    {
     "data": {
      "text/plain": [
       "['to', 'je', 'test']"
      ]
     },
     "execution_count": 2,
     "metadata": {},
     "output_type": "execute_result"
    }
   ],
   "source": [
    "\"to_je_test\".split(\"_\")"
   ]
  }
 ],
 "metadata": {
  "interpreter": {
   "hash": "57baa5815c940fdaff4d14510622de9616cae602444507ba5d0b6727c008cbd6"
  },
  "kernelspec": {
   "display_name": "Python 3.7.8 64-bit",
   "language": "python",
   "name": "python3"
  },
  "language_info": {
   "codemirror_mode": {
    "name": "ipython",
    "version": 3
   },
   "file_extension": ".py",
   "mimetype": "text/x-python",
   "name": "python",
   "nbconvert_exporter": "python",
   "pygments_lexer": "ipython3",
   "version": "3.8.7"
  },
  "orig_nbformat": 4
 },
 "nbformat": 4,
 "nbformat_minor": 2
}

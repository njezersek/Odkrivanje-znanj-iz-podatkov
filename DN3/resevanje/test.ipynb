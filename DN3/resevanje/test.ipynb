{
 "cells": [
  {
   "cell_type": "code",
   "execution_count": 60,
   "metadata": {},
   "outputs": [],
   "source": [
    "import pandas as pd"
   ]
  },
  {
   "cell_type": "code",
   "execution_count": 78,
   "metadata": {},
   "outputs": [],
   "source": [
    "avg = pd.read_csv('average.txt', header=None)\n",
    "my_avg = pd.read_csv('result_avg.txt', header=None)"
   ]
  },
  {
   "cell_type": "code",
   "execution_count": 79,
   "metadata": {},
   "outputs": [
    {
     "data": {
      "text/plain": [
       "count    23043.000000\n",
       "mean         0.000014\n",
       "std          0.000306\n",
       "min         -0.000499\n",
       "25%         -0.000216\n",
       "50%         -0.000029\n",
       "75%          0.000318\n",
       "max          0.000490\n",
       "Name: 0, dtype: float64"
      ]
     },
     "execution_count": 79,
     "metadata": {},
     "output_type": "execute_result"
    }
   ],
   "source": [
    "diff = (pd.to_datetime(avg[0]) - pd.to_datetime(my_avg[0])).dt.total_seconds()\n",
    "diff.describe()"
   ]
  },
  {
   "cell_type": "code",
   "execution_count": 63,
   "metadata": {},
   "outputs": [
    {
     "data": {
      "text/plain": [
       "array([ 5318, 12618, 12570, ...,  4092, 10912,   428], dtype=int64)"
      ]
     },
     "execution_count": 63,
     "metadata": {},
     "output_type": "execute_result"
    }
   ],
   "source": [
    "diff.values.argsort()"
   ]
  },
  {
   "cell_type": "code",
   "execution_count": 64,
   "metadata": {},
   "outputs": [],
   "source": [
    "test = pd.read_csv('test.csv', sep='\\t')"
   ]
  },
  {
   "cell_type": "code",
   "execution_count": 65,
   "metadata": {},
   "outputs": [
    {
     "data": {
      "text/html": [
       "<div>\n",
       "<style scoped>\n",
       "    .dataframe tbody tr th:only-of-type {\n",
       "        vertical-align: middle;\n",
       "    }\n",
       "\n",
       "    .dataframe tbody tr th {\n",
       "        vertical-align: top;\n",
       "    }\n",
       "\n",
       "    .dataframe thead th {\n",
       "        text-align: right;\n",
       "    }\n",
       "</style>\n",
       "<table border=\"1\" class=\"dataframe\">\n",
       "  <thead>\n",
       "    <tr style=\"text-align: right;\">\n",
       "      <th></th>\n",
       "      <th>Registration</th>\n",
       "      <th>Driver ID</th>\n",
       "      <th>Route</th>\n",
       "      <th>Route Direction</th>\n",
       "      <th>Route description</th>\n",
       "      <th>First station</th>\n",
       "      <th>Departure time</th>\n",
       "      <th>Last station</th>\n",
       "      <th>Arrival time</th>\n",
       "    </tr>\n",
       "  </thead>\n",
       "  <tbody>\n",
       "    <tr>\n",
       "      <th>5318</th>\n",
       "      <td>LJ LPP-212</td>\n",
       "      <td>155</td>\n",
       "      <td>1</td>\n",
       "      <td>VIŽMARJE - MESTNI LOG</td>\n",
       "      <td>MESTNI LOG; sejem</td>\n",
       "      <td>Šentvid</td>\n",
       "      <td>2012-12-17 10:19:55.000</td>\n",
       "      <td>MESTNI LOG</td>\n",
       "      <td>?</td>\n",
       "    </tr>\n",
       "    <tr>\n",
       "      <th>12618</th>\n",
       "      <td>LJ LPP-373</td>\n",
       "      <td>349</td>\n",
       "      <td>1</td>\n",
       "      <td>VIŽMARJE - MESTNI LOG</td>\n",
       "      <td>MESTNI LOG; sejem</td>\n",
       "      <td>Šentvid</td>\n",
       "      <td>2012-12-11 11:01:29.000</td>\n",
       "      <td>MESTNI LOG</td>\n",
       "      <td>?</td>\n",
       "    </tr>\n",
       "    <tr>\n",
       "      <th>12570</th>\n",
       "      <td>LJ LPP-373</td>\n",
       "      <td>295</td>\n",
       "      <td>1</td>\n",
       "      <td>VIŽMARJE - MESTNI LOG</td>\n",
       "      <td>MESTNI LOG; sejem</td>\n",
       "      <td>Šentvid</td>\n",
       "      <td>2012-12-03 12:23:39.000</td>\n",
       "      <td>MESTNI LOG</td>\n",
       "      <td>?</td>\n",
       "    </tr>\n",
       "    <tr>\n",
       "      <th>12569</th>\n",
       "      <td>LJ LPP-373</td>\n",
       "      <td>295</td>\n",
       "      <td>1</td>\n",
       "      <td>VIŽMARJE - MESTNI LOG</td>\n",
       "      <td>MESTNI LOG; sejem</td>\n",
       "      <td>Šentvid</td>\n",
       "      <td>2012-12-03 10:51:37.000</td>\n",
       "      <td>MESTNI LOG</td>\n",
       "      <td>?</td>\n",
       "    </tr>\n",
       "    <tr>\n",
       "      <th>12568</th>\n",
       "      <td>LJ LPP-373</td>\n",
       "      <td>295</td>\n",
       "      <td>1</td>\n",
       "      <td>VIŽMARJE - MESTNI LOG</td>\n",
       "      <td>MESTNI LOG; sejem</td>\n",
       "      <td>Šentvid</td>\n",
       "      <td>2012-12-03 09:11:55.000</td>\n",
       "      <td>MESTNI LOG</td>\n",
       "      <td>?</td>\n",
       "    </tr>\n",
       "    <tr>\n",
       "      <th>12552</th>\n",
       "      <td>LJ LPP-372</td>\n",
       "      <td>344</td>\n",
       "      <td>1</td>\n",
       "      <td>VIŽMARJE - MESTNI LOG</td>\n",
       "      <td>MESTNI LOG; sejem</td>\n",
       "      <td>Šentvid</td>\n",
       "      <td>2012-12-28 12:33:18.000</td>\n",
       "      <td>MESTNI LOG</td>\n",
       "      <td>?</td>\n",
       "    </tr>\n",
       "    <tr>\n",
       "      <th>6443</th>\n",
       "      <td>LJ LPP-220</td>\n",
       "      <td>345</td>\n",
       "      <td>1</td>\n",
       "      <td>VIŽMARJE - MESTNI LOG</td>\n",
       "      <td>MESTNI LOG; sejem</td>\n",
       "      <td>Šentvid</td>\n",
       "      <td>2012-12-05 05:33:28.000</td>\n",
       "      <td>MESTNI LOG</td>\n",
       "      <td>?</td>\n",
       "    </tr>\n",
       "    <tr>\n",
       "      <th>6444</th>\n",
       "      <td>LJ LPP-220</td>\n",
       "      <td>345</td>\n",
       "      <td>1</td>\n",
       "      <td>VIŽMARJE - MESTNI LOG</td>\n",
       "      <td>MESTNI LOG; sejem</td>\n",
       "      <td>Šentvid</td>\n",
       "      <td>2012-12-05 07:03:10.000</td>\n",
       "      <td>MESTNI LOG</td>\n",
       "      <td>?</td>\n",
       "    </tr>\n",
       "    <tr>\n",
       "      <th>6445</th>\n",
       "      <td>LJ LPP-220</td>\n",
       "      <td>345</td>\n",
       "      <td>1</td>\n",
       "      <td>VIŽMARJE - MESTNI LOG</td>\n",
       "      <td>MESTNI LOG; sejem</td>\n",
       "      <td>Šentvid</td>\n",
       "      <td>2012-12-05 08:39:33.000</td>\n",
       "      <td>MESTNI LOG</td>\n",
       "      <td>?</td>\n",
       "    </tr>\n",
       "    <tr>\n",
       "      <th>6446</th>\n",
       "      <td>LJ LPP-220</td>\n",
       "      <td>345</td>\n",
       "      <td>1</td>\n",
       "      <td>VIŽMARJE - MESTNI LOG</td>\n",
       "      <td>MESTNI LOG; sejem</td>\n",
       "      <td>Šentvid</td>\n",
       "      <td>2012-12-05 10:21:00.000</td>\n",
       "      <td>MESTNI LOG</td>\n",
       "      <td>?</td>\n",
       "    </tr>\n",
       "  </tbody>\n",
       "</table>\n",
       "</div>"
      ],
      "text/plain": [
       "      Registration  Driver ID  Route        Route Direction  \\\n",
       "5318    LJ LPP-212        155      1  VIŽMARJE - MESTNI LOG   \n",
       "12618   LJ LPP-373        349      1  VIŽMARJE - MESTNI LOG   \n",
       "12570   LJ LPP-373        295      1  VIŽMARJE - MESTNI LOG   \n",
       "12569   LJ LPP-373        295      1  VIŽMARJE - MESTNI LOG   \n",
       "12568   LJ LPP-373        295      1  VIŽMARJE - MESTNI LOG   \n",
       "12552   LJ LPP-372        344      1  VIŽMARJE - MESTNI LOG   \n",
       "6443    LJ LPP-220        345      1  VIŽMARJE - MESTNI LOG   \n",
       "6444    LJ LPP-220        345      1  VIŽMARJE - MESTNI LOG   \n",
       "6445    LJ LPP-220        345      1  VIŽMARJE - MESTNI LOG   \n",
       "6446    LJ LPP-220        345      1  VIŽMARJE - MESTNI LOG   \n",
       "\n",
       "         Route description First station           Departure time  \\\n",
       "5318     MESTNI LOG; sejem       Šentvid  2012-12-17 10:19:55.000   \n",
       "12618    MESTNI LOG; sejem       Šentvid  2012-12-11 11:01:29.000   \n",
       "12570    MESTNI LOG; sejem       Šentvid  2012-12-03 12:23:39.000   \n",
       "12569    MESTNI LOG; sejem       Šentvid  2012-12-03 10:51:37.000   \n",
       "12568    MESTNI LOG; sejem       Šentvid  2012-12-03 09:11:55.000   \n",
       "12552    MESTNI LOG; sejem       Šentvid  2012-12-28 12:33:18.000   \n",
       "6443     MESTNI LOG; sejem       Šentvid  2012-12-05 05:33:28.000   \n",
       "6444     MESTNI LOG; sejem       Šentvid  2012-12-05 07:03:10.000   \n",
       "6445     MESTNI LOG; sejem       Šentvid  2012-12-05 08:39:33.000   \n",
       "6446     MESTNI LOG; sejem       Šentvid  2012-12-05 10:21:00.000   \n",
       "\n",
       "      Last station Arrival time  \n",
       "5318    MESTNI LOG            ?  \n",
       "12618   MESTNI LOG            ?  \n",
       "12570   MESTNI LOG            ?  \n",
       "12569   MESTNI LOG            ?  \n",
       "12568   MESTNI LOG            ?  \n",
       "12552   MESTNI LOG            ?  \n",
       "6443    MESTNI LOG            ?  \n",
       "6444    MESTNI LOG            ?  \n",
       "6445    MESTNI LOG            ?  \n",
       "6446    MESTNI LOG            ?  "
      ]
     },
     "execution_count": 65,
     "metadata": {},
     "output_type": "execute_result"
    }
   ],
   "source": [
    "test.iloc[diff.values.argsort()[:10]]"
   ]
  },
  {
   "cell_type": "code",
   "execution_count": 66,
   "metadata": {},
   "outputs": [
    {
     "data": {
      "text/html": [
       "<div>\n",
       "<style scoped>\n",
       "    .dataframe tbody tr th:only-of-type {\n",
       "        vertical-align: middle;\n",
       "    }\n",
       "\n",
       "    .dataframe tbody tr th {\n",
       "        vertical-align: top;\n",
       "    }\n",
       "\n",
       "    .dataframe thead th {\n",
       "        text-align: right;\n",
       "    }\n",
       "</style>\n",
       "<table border=\"1\" class=\"dataframe\">\n",
       "  <thead>\n",
       "    <tr style=\"text-align: right;\">\n",
       "      <th></th>\n",
       "      <th>0</th>\n",
       "    </tr>\n",
       "  </thead>\n",
       "  <tbody>\n",
       "    <tr>\n",
       "      <th>5318</th>\n",
       "      <td>2012-12-17 10:19:55.000000</td>\n",
       "    </tr>\n",
       "    <tr>\n",
       "      <th>12618</th>\n",
       "      <td>2012-12-11 11:01:29.000000</td>\n",
       "    </tr>\n",
       "    <tr>\n",
       "      <th>12570</th>\n",
       "      <td>2012-12-03 12:23:39.000000</td>\n",
       "    </tr>\n",
       "    <tr>\n",
       "      <th>12569</th>\n",
       "      <td>2012-12-03 10:51:37.000000</td>\n",
       "    </tr>\n",
       "    <tr>\n",
       "      <th>12568</th>\n",
       "      <td>2012-12-03 09:11:55.000000</td>\n",
       "    </tr>\n",
       "    <tr>\n",
       "      <th>12552</th>\n",
       "      <td>2012-12-28 12:33:18.000000</td>\n",
       "    </tr>\n",
       "    <tr>\n",
       "      <th>6443</th>\n",
       "      <td>2012-12-05 05:33:28.000000</td>\n",
       "    </tr>\n",
       "    <tr>\n",
       "      <th>6444</th>\n",
       "      <td>2012-12-05 07:03:10.000000</td>\n",
       "    </tr>\n",
       "    <tr>\n",
       "      <th>6445</th>\n",
       "      <td>2012-12-05 08:39:33.000000</td>\n",
       "    </tr>\n",
       "    <tr>\n",
       "      <th>6446</th>\n",
       "      <td>2012-12-05 10:21:00.000000</td>\n",
       "    </tr>\n",
       "  </tbody>\n",
       "</table>\n",
       "</div>"
      ],
      "text/plain": [
       "                                0\n",
       "5318   2012-12-17 10:19:55.000000\n",
       "12618  2012-12-11 11:01:29.000000\n",
       "12570  2012-12-03 12:23:39.000000\n",
       "12569  2012-12-03 10:51:37.000000\n",
       "12568  2012-12-03 09:11:55.000000\n",
       "12552  2012-12-28 12:33:18.000000\n",
       "6443   2012-12-05 05:33:28.000000\n",
       "6444   2012-12-05 07:03:10.000000\n",
       "6445   2012-12-05 08:39:33.000000\n",
       "6446   2012-12-05 10:21:00.000000"
      ]
     },
     "execution_count": 66,
     "metadata": {},
     "output_type": "execute_result"
    }
   ],
   "source": [
    "avg.iloc[diff.values.argsort()[:10]]\n"
   ]
  },
  {
   "cell_type": "code",
   "execution_count": 67,
   "metadata": {},
   "outputs": [
    {
     "data": {
      "text/plain": [
       "5318    2012-12-17 10:52:03.396\n",
       "12618   2012-12-11 11:33:37.396\n",
       "12570   2012-12-03 12:55:47.396\n",
       "12569   2012-12-03 11:23:45.396\n",
       "12568   2012-12-03 09:44:03.396\n",
       "12552   2012-12-28 13:05:26.396\n",
       "6443    2012-12-05 06:05:36.396\n",
       "6444    2012-12-05 07:35:18.396\n",
       "6445    2012-12-05 09:11:41.396\n",
       "6446    2012-12-05 10:53:08.396\n",
       "Name: 0, dtype: datetime64[ns]"
      ]
     },
     "execution_count": 67,
     "metadata": {},
     "output_type": "execute_result"
    }
   ],
   "source": [
    "pd.to_datetime(my_avg.iloc[diff.values.argsort()[:10]][0])"
   ]
  },
  {
   "cell_type": "code",
   "execution_count": 68,
   "metadata": {},
   "outputs": [
    {
     "data": {
      "text/plain": [
       "5318     0.0\n",
       "12618    0.0\n",
       "12570    0.0\n",
       "12569    0.0\n",
       "12568    0.0\n",
       "12552    0.0\n",
       "6443     0.0\n",
       "6444     0.0\n",
       "6445     0.0\n",
       "6446     0.0\n",
       "dtype: float64"
      ]
     },
     "execution_count": 68,
     "metadata": {},
     "output_type": "execute_result"
    }
   ],
   "source": [
    "(pd.to_datetime(test.iloc[diff.values.argsort()[:10]]['Departure time']) - pd.to_datetime(avg.iloc[diff.values.argsort()[:10]][0])).dt.total_seconds()"
   ]
  },
  {
   "cell_type": "code",
   "execution_count": 71,
   "metadata": {},
   "outputs": [],
   "source": [
    "ttt = pd.read_csv('testtesttest.csv', sep='\\t', header=None)"
   ]
  },
  {
   "cell_type": "code",
   "execution_count": 77,
   "metadata": {},
   "outputs": [
    {
     "data": {
      "text/html": [
       "<div>\n",
       "<style scoped>\n",
       "    .dataframe tbody tr th:only-of-type {\n",
       "        vertical-align: middle;\n",
       "    }\n",
       "\n",
       "    .dataframe tbody tr th {\n",
       "        vertical-align: top;\n",
       "    }\n",
       "\n",
       "    .dataframe thead th {\n",
       "        text-align: right;\n",
       "    }\n",
       "</style>\n",
       "<table border=\"1\" class=\"dataframe\">\n",
       "  <thead>\n",
       "    <tr style=\"text-align: right;\">\n",
       "      <th></th>\n",
       "      <th>0</th>\n",
       "      <th>1</th>\n",
       "      <th>2</th>\n",
       "      <th>3</th>\n",
       "      <th>4</th>\n",
       "      <th>5</th>\n",
       "      <th>6</th>\n",
       "      <th>7</th>\n",
       "      <th>8</th>\n",
       "    </tr>\n",
       "  </thead>\n",
       "  <tbody>\n",
       "    <tr>\n",
       "      <th>0</th>\n",
       "      <td>LJ LPP-201*</td>\n",
       "      <td>102</td>\n",
       "      <td>1</td>\n",
       "      <td>VIŽMARJE - MESTNI LOG</td>\n",
       "      <td>MESTNI LOG; sejem</td>\n",
       "      <td>Šentvid</td>\n",
       "      <td>2012-12-31 11:53:42.000</td>\n",
       "      <td>MESTNI LOG</td>\n",
       "      <td>?</td>\n",
       "    </tr>\n",
       "    <tr>\n",
       "      <th>1</th>\n",
       "      <td>LJ LPP-201*</td>\n",
       "      <td>102</td>\n",
       "      <td>1</td>\n",
       "      <td>VIŽMARJE - MESTNI LOG</td>\n",
       "      <td>MESTNI LOG; sejem</td>\n",
       "      <td>Šentvid</td>\n",
       "      <td>2012-12-31 13:22:15.000</td>\n",
       "      <td>MESTNI LOG</td>\n",
       "      <td>?</td>\n",
       "    </tr>\n",
       "    <tr>\n",
       "      <th>2</th>\n",
       "      <td>LJ LPP-201*</td>\n",
       "      <td>102</td>\n",
       "      <td>1</td>\n",
       "      <td>VIŽMARJE - MESTNI LOG</td>\n",
       "      <td>MESTNI LOG; sejem</td>\n",
       "      <td>Šentvid</td>\n",
       "      <td>2012-12-31 14:49:16.000</td>\n",
       "      <td>MESTNI LOG</td>\n",
       "      <td>?</td>\n",
       "    </tr>\n",
       "    <tr>\n",
       "      <th>3</th>\n",
       "      <td>LJ LPP-201*</td>\n",
       "      <td>102</td>\n",
       "      <td>1</td>\n",
       "      <td>VIŽMARJE - MESTNI LOG</td>\n",
       "      <td>MESTNI LOG; sejem</td>\n",
       "      <td>Šentvid</td>\n",
       "      <td>2012-12-31 16:23:15.000</td>\n",
       "      <td>MESTNI LOG</td>\n",
       "      <td>?</td>\n",
       "    </tr>\n",
       "    <tr>\n",
       "      <th>4</th>\n",
       "      <td>LJ LPP-201*</td>\n",
       "      <td>102</td>\n",
       "      <td>1</td>\n",
       "      <td>VIŽMARJE - MESTNI LOG</td>\n",
       "      <td>MESTNI LOG; sejem</td>\n",
       "      <td>Šentvid</td>\n",
       "      <td>2012-12-31 17:51:47.000</td>\n",
       "      <td>MESTNI LOG</td>\n",
       "      <td>?</td>\n",
       "    </tr>\n",
       "  </tbody>\n",
       "</table>\n",
       "</div>"
      ],
      "text/plain": [
       "             0    1  2                      3                    4        5  \\\n",
       "0  LJ LPP-201*  102  1  VIŽMARJE - MESTNI LOG    MESTNI LOG; sejem  Šentvid   \n",
       "1  LJ LPP-201*  102  1  VIŽMARJE - MESTNI LOG    MESTNI LOG; sejem  Šentvid   \n",
       "2  LJ LPP-201*  102  1  VIŽMARJE - MESTNI LOG    MESTNI LOG; sejem  Šentvid   \n",
       "3  LJ LPP-201*  102  1  VIŽMARJE - MESTNI LOG    MESTNI LOG; sejem  Šentvid   \n",
       "4  LJ LPP-201*  102  1  VIŽMARJE - MESTNI LOG    MESTNI LOG; sejem  Šentvid   \n",
       "\n",
       "                         6           7  8  \n",
       "0  2012-12-31 11:53:42.000  MESTNI LOG  ?  \n",
       "1  2012-12-31 13:22:15.000  MESTNI LOG  ?  \n",
       "2  2012-12-31 14:49:16.000  MESTNI LOG  ?  \n",
       "3  2012-12-31 16:23:15.000  MESTNI LOG  ?  \n",
       "4  2012-12-31 17:51:47.000  MESTNI LOG  ?  "
      ]
     },
     "execution_count": 77,
     "metadata": {},
     "output_type": "execute_result"
    }
   ],
   "source": [
    "ttt[ttt[4] == \"  MESTNI LOG; sejem\"]\n"
   ]
  }
 ],
 "metadata": {
  "interpreter": {
   "hash": "1baa965d5efe3ac65b79dfc60c0d706280b1da80fedb7760faf2759126c4f253"
  },
  "kernelspec": {
   "display_name": "Python 3.8.7 64-bit",
   "language": "python",
   "name": "python3"
  },
  "language_info": {
   "codemirror_mode": {
    "name": "ipython",
    "version": 3
   },
   "file_extension": ".py",
   "mimetype": "text/x-python",
   "name": "python",
   "nbconvert_exporter": "python",
   "pygments_lexer": "ipython3",
   "version": "3.8.7"
  },
  "orig_nbformat": 4
 },
 "nbformat": 4,
 "nbformat_minor": 2
}

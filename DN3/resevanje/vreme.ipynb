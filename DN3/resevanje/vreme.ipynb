{
 "cells": [
  {
   "cell_type": "code",
   "execution_count": 43,
   "metadata": {},
   "outputs": [],
   "source": [
    "from datetime import date, datetime, timedelta\n",
    "import requests\n",
    "import pandas as pd\n",
    "import numpy as np\n",
    "import os\n",
    "from pathlib import Path\n",
    "import json\n",
    "import re"
   ]
  },
  {
   "cell_type": "code",
   "execution_count": 7,
   "metadata": {},
   "outputs": [
    {
     "data": {
      "text/plain": [
       "0     2012-01-13 12:27:04\n",
       "1     2012-01-13 15:46:19\n",
       "2     2012-01-13 17:21:55\n",
       "3     2012-01-13 20:29:59\n",
       "4     2012-01-12 12:49:53\n",
       "              ...        \n",
       "429   2012-12-19 06:31:22\n",
       "430   2012-12-27 04:00:00\n",
       "431   2012-12-27 05:30:15\n",
       "432   2012-12-27 07:00:46\n",
       "433   2012-12-06 06:34:26\n",
       "Name: departure, Length: 9918, dtype: datetime64[ns]"
      ]
     },
     "execution_count": 7,
     "metadata": {},
     "output_type": "execute_result"
    }
   ],
   "source": [
    "train = pd.read_csv('train_pred.csv', sep='\\t')\n",
    "test = pd.read_csv('test_pred.csv', sep='\\t')\n",
    "\n",
    "combined = pd.concat([train, test])\n",
    "\n",
    "combined['departure'] = pd.to_datetime(combined['Departure time'])\n",
    "combined['departure']"
   ]
  },
  {
   "cell_type": "code",
   "execution_count": 11,
   "metadata": {},
   "outputs": [
    {
     "data": {
      "text/plain": [
       "datetime.datetime(1800, 1, 1, 0, 0)"
      ]
     },
     "execution_count": 11,
     "metadata": {},
     "output_type": "execute_result"
    }
   ],
   "source": [
    "datetime.strptime(\"2012-01-13 00:00\", \"%Y-%m-%d %H:%M\") - timedelta(minutes=111517920)"
   ]
  },
  {
   "cell_type": "code",
   "execution_count": 60,
   "metadata": {},
   "outputs": [
    {
     "data": {
      "text/plain": [
       "datetime.datetime(2012, 12, 4, 12, 30)"
      ]
     },
     "execution_count": 60,
     "metadata": {},
     "output_type": "execute_result"
    }
   ],
   "source": [
    "datetime(1800, 1, 1, 0, 0) + timedelta(minutes=111988110)"
   ]
  },
  {
   "cell_type": "code",
   "execution_count": 84,
   "metadata": {},
   "outputs": [],
   "source": [
    "td = datetime(2000, 1, 1, 0, 0) - datetime(1800, 1, 1, 0, 0)"
   ]
  },
  {
   "cell_type": "code",
   "execution_count": 89,
   "metadata": {},
   "outputs": [
    {
     "data": {
      "text/plain": [
       "105189120.0"
      ]
     },
     "execution_count": 89,
     "metadata": {},
     "output_type": "execute_result"
    }
   ],
   "source": [
    "td.total_seconds()/60"
   ]
  },
  {
   "cell_type": "code",
   "execution_count": 8,
   "metadata": {},
   "outputs": [],
   "source": [
    "def daterange(start_date, end_date):\n",
    "    for n in range(int((end_date - start_date).days)):\n",
    "        yield start_date + timedelta(n)"
   ]
  },
  {
   "cell_type": "code",
   "execution_count": 16,
   "metadata": {},
   "outputs": [
    {
     "name": "stdout",
     "output_type": "stream",
     "text": [
      "2012-07-04 - saved\n"
     ]
    }
   ],
   "source": [
    "start_date = date(2012, 7, 4)\n",
    "end_date = date(2012, 7, 5)\n",
    "for single_date in daterange(start_date, end_date):\n",
    "\td = single_date.strftime(\"%Y-%m-%d\") # 18 - vlaga, 26 - padavine, 21 - hitrost vetra, 15 - temperatura :: 26,21,15,18\n",
    "\tdata = requests.get(f\"https://meteo.arso.gov.si/webmet/archive/data.xml?lang=si&vars=26,21,15,18&group=halfhourlyData0&type=halfhourly&id=1828&d1={d}&d2={d}&nocache=l1ttpzgh6n69qgtaxx4\")\n",
    "\t# save to file\n",
    "\tif data.status_code == 200:\n",
    "\t\twith open(f\"data/{d}.txt\", \"wb\") as f:\n",
    "\t\t\tf.write(data.content)\n",
    "\t\tprint(f\"{d} - saved\")\n",
    "\telse:\n",
    "\t\tprint(f\"{d} - {data.status_code}\")"
   ]
  },
  {
   "cell_type": "code",
   "execution_count": 17,
   "metadata": {},
   "outputs": [],
   "source": [
    "start_date = date(2012, 1, 1)\n",
    "end_date = date(2013, 1, 1)\n",
    "for single_date in daterange(start_date, end_date):\n",
    "\td = single_date.strftime(\"%Y-%m-%d\")\n",
    "\t# does file exist?\n",
    "\tif not os.path.isfile(f\"data/{d}.txt\"):\n",
    "\t\tprint(f\"{d} - missing\")"
   ]
  },
  {
   "cell_type": "code",
   "execution_count": 29,
   "metadata": {},
   "outputs": [
    {
     "data": {
      "text/plain": [
       "'<?xml version=\"1.0\" encoding=\"UTF-8\"?><pujs><![CDATA[AcademaPUJS.set( { baseurl:\"./icons/\", gen:\"ACADEMA.AEP.getGenerators(\\'archive\\').genTerminData(\\'yyyy-MM-dd HH:mm\\')\", datatype:\"halfhourly\", o:[ \"p0\" , \"p1\" ], params:{p0:{ pid:\"15\", name:\"t2m\", s:\"povp. T\", l:\"povpreÄ\\x8dna temperatura zraka na 2m (Â°C)\", unit:\"Â°C\"},p1:{ pid:\"26\", name:\"padavine\", s:\"koliÄ\\x8dina padavin\", l:\"koliÄ\\x8dina padavin (mm)\", unit:\"mm\"}}, points:{_1828:{_111500640:{p0:\"-0.4\", p1:\"0\"}, _111500670:{p0:\"-0.5\", p1:\"0\"}, _111500700:{p0:\"-0.5\", p1:\"0\"}, _111500730:{p0:\"-0.5\", p1:\"0\"}, _111500760:{p0:\"-0.6\", p1:\"0\"}, _111500790:{p0:\"-0.6\", p1:\"0\"}, _111500820:{p0:\"-0.5\", p1:\"0\"}, _111500850:{p0:\"-0.5\", p1:\"0\"}, _111500880:{p0:\"-0.5\", p1:\"0\"}, _111500910:{p0:\"-0.5\", p1:\"0\"}, _111500940:{p0:\"-0.6\", p1:\"0\"}, _111500970:{p0:\"-0.5\", p1:\"0\"}, _111501000:{p0:\"-0.5\", p1:\"0\"}, _111501030:{p0:\"-0.7\", p1:\"0\"}, _111501060:{p0:\"-0.6\", p1:\"0\"}, _111501090:{p0:\"-0.8\", p1:\"0\"}, _111501120:{p0:\"-0.9\", p1:\"0\"}, _111501150:{p0:\"-0.9\", p1:\"0\"}, _111501180:{p0:\"-0.7\", p1:\"0\"}, _111501210:{p0:\"-0.3\", p1:\"0\"}, _111501240:{p0:\"0\", p1:\"0\"}, _111501270:{p0:\"0.5\", p1:\"0\"}, _111501300:{p0:\"0.7\", p1:\"0\"}, _111501330:{p0:\"1.6\", p1:\"0\"}, _111501360:{p0:\"2.7\", p1:\"0\"}, _111501390:{p0:\"3\", p1:\"0\"}, _111501420:{p0:\"3.1\", p1:\"0\"}, _111501450:{p0:\"4.1\", p1:\"0\"}, _111501480:{p0:\"4.4\", p1:\"0\"}, _111501510:{p0:\"4.8\", p1:\"0\"}, _111501540:{p0:\"4.7\", p1:\"0\"}, _111501570:{p0:\"5\", p1:\"0\"}, _111501600:{p0:\"4.9\", p1:\"0\"}, _111501630:{p0:\"4.4\", p1:\"0\"}, _111501660:{p0:\"3.7\", p1:\"0\"}, _111501690:{p0:\"3.2\", p1:\"0\"}, _111501720:{p0:\"2.7\", p1:\"0\"}, _111501750:{p0:\"2.4\", p1:\"0\"}, _111501780:{p0:\"2.3\", p1:\"0\"}, _111501810:{p0:\"2\", p1:\"0\"}, _111501840:{p0:\"1.6\", p1:\"0\"}, _111501870:{p0:\"1.2\", p1:\"0\"}, _111501900:{p0:\"1.1\", p1:\"0\"}, _111501930:{p0:\"0.7\", p1:\"0\"}, _111501960:{p0:\"0.4\", p1:\"0\"}, _111501990:{p0:\"0.1\", p1:\"0\"}, _111502020:{p0:\"-0.1\", p1:\"0\"}, _111502050:{p0:\"-0.2\", p1:\"0\"}}}})]]></pujs>'"
      ]
     },
     "execution_count": 29,
     "metadata": {},
     "output_type": "execute_result"
    }
   ],
   "source": [
    "data = requests.get(\"https://meteo.arso.gov.si/webmet/archive/data.xml?lang=si&vars=26,15&group=halfhourlyData0&type=halfhourly&id=1828&d1=2012-01-01&d2=2012-01-01&nocache=l1ttpzgh6n69qgtaxx4\")\n",
    "data.text"
   ]
  },
  {
   "cell_type": "code",
   "execution_count": 61,
   "metadata": {},
   "outputs": [],
   "source": [
    "data_dir = Path(\"data_clean\")\n",
    "\n",
    "weather_data = pd.DataFrame()\n",
    "\n",
    "for file in data_dir.iterdir():\n",
    "\tif file.is_file():\n",
    "\t\td = pd.read_csv(file, sep='\\t', index_col=0)\n",
    "\t\tweather_data = weather_data.append(d)"
   ]
  },
  {
   "cell_type": "code",
   "execution_count": 68,
   "metadata": {},
   "outputs": [],
   "source": [
    "weather_data.to_csv('weather_data.csv', sep='\\t')"
   ]
  },
  {
   "cell_type": "code",
   "execution_count": 75,
   "metadata": {},
   "outputs": [
    {
     "data": {
      "text/html": [
       "<div>\n",
       "<style scoped>\n",
       "    .dataframe tbody tr th:only-of-type {\n",
       "        vertical-align: middle;\n",
       "    }\n",
       "\n",
       "    .dataframe tbody tr th {\n",
       "        vertical-align: top;\n",
       "    }\n",
       "\n",
       "    .dataframe thead th {\n",
       "        text-align: right;\n",
       "    }\n",
       "</style>\n",
       "<table border=\"1\" class=\"dataframe\">\n",
       "  <thead>\n",
       "    <tr style=\"text-align: right;\">\n",
       "      <th></th>\n",
       "      <th>t2m</th>\n",
       "      <th>rh</th>\n",
       "      <th>padavine</th>\n",
       "      <th>veter_hitrost</th>\n",
       "    </tr>\n",
       "    <tr>\n",
       "      <th>min1800</th>\n",
       "      <th></th>\n",
       "      <th></th>\n",
       "      <th></th>\n",
       "      <th></th>\n",
       "    </tr>\n",
       "  </thead>\n",
       "  <tbody>\n",
       "    <tr>\n",
       "      <th>111500640</th>\n",
       "      <td>-0.4</td>\n",
       "      <td>92</td>\n",
       "      <td>0.0</td>\n",
       "      <td>1.1</td>\n",
       "    </tr>\n",
       "    <tr>\n",
       "      <th>111500670</th>\n",
       "      <td>-0.5</td>\n",
       "      <td>92</td>\n",
       "      <td>0.0</td>\n",
       "      <td>0.9</td>\n",
       "    </tr>\n",
       "    <tr>\n",
       "      <th>111500700</th>\n",
       "      <td>-0.5</td>\n",
       "      <td>92</td>\n",
       "      <td>0.0</td>\n",
       "      <td>0.7</td>\n",
       "    </tr>\n",
       "    <tr>\n",
       "      <th>111500730</th>\n",
       "      <td>-0.5</td>\n",
       "      <td>92</td>\n",
       "      <td>0.0</td>\n",
       "      <td>0.8</td>\n",
       "    </tr>\n",
       "    <tr>\n",
       "      <th>111500760</th>\n",
       "      <td>-0.6</td>\n",
       "      <td>92</td>\n",
       "      <td>0.0</td>\n",
       "      <td>0.7</td>\n",
       "    </tr>\n",
       "    <tr>\n",
       "      <th>...</th>\n",
       "      <td>...</td>\n",
       "      <td>...</td>\n",
       "      <td>...</td>\n",
       "      <td>...</td>\n",
       "    </tr>\n",
       "    <tr>\n",
       "      <th>112027530</th>\n",
       "      <td>-1.2</td>\n",
       "      <td>96</td>\n",
       "      <td>0.0</td>\n",
       "      <td>0.7</td>\n",
       "    </tr>\n",
       "    <tr>\n",
       "      <th>112027560</th>\n",
       "      <td>-1.4</td>\n",
       "      <td>96</td>\n",
       "      <td>0.0</td>\n",
       "      <td>1.3</td>\n",
       "    </tr>\n",
       "    <tr>\n",
       "      <th>112027590</th>\n",
       "      <td>-1.4</td>\n",
       "      <td>96</td>\n",
       "      <td>0.0</td>\n",
       "      <td>0.6</td>\n",
       "    </tr>\n",
       "    <tr>\n",
       "      <th>112027620</th>\n",
       "      <td>-1.4</td>\n",
       "      <td>96</td>\n",
       "      <td>0.0</td>\n",
       "      <td>0.6</td>\n",
       "    </tr>\n",
       "    <tr>\n",
       "      <th>112027650</th>\n",
       "      <td>-1.3</td>\n",
       "      <td>96</td>\n",
       "      <td>0.0</td>\n",
       "      <td>0.5</td>\n",
       "    </tr>\n",
       "  </tbody>\n",
       "</table>\n",
       "<p>17568 rows × 4 columns</p>\n",
       "</div>"
      ],
      "text/plain": [
       "           t2m  rh  padavine  veter_hitrost\n",
       "min1800                                    \n",
       "111500640 -0.4  92       0.0            1.1\n",
       "111500670 -0.5  92       0.0            0.9\n",
       "111500700 -0.5  92       0.0            0.7\n",
       "111500730 -0.5  92       0.0            0.8\n",
       "111500760 -0.6  92       0.0            0.7\n",
       "...        ...  ..       ...            ...\n",
       "112027530 -1.2  96       0.0            0.7\n",
       "112027560 -1.4  96       0.0            1.3\n",
       "112027590 -1.4  96       0.0            0.6\n",
       "112027620 -1.4  96       0.0            0.6\n",
       "112027650 -1.3  96       0.0            0.5\n",
       "\n",
       "[17568 rows x 4 columns]"
      ]
     },
     "execution_count": 75,
     "metadata": {},
     "output_type": "execute_result"
    }
   ],
   "source": [
    "weather_data"
   ]
  }
 ],
 "metadata": {
  "interpreter": {
   "hash": "1baa965d5efe3ac65b79dfc60c0d706280b1da80fedb7760faf2759126c4f253"
  },
  "kernelspec": {
   "display_name": "Python 3.8.7 64-bit",
   "language": "python",
   "name": "python3"
  },
  "language_info": {
   "codemirror_mode": {
    "name": "ipython",
    "version": 3
   },
   "file_extension": ".py",
   "mimetype": "text/x-python",
   "name": "python",
   "nbconvert_exporter": "python",
   "pygments_lexer": "ipython3",
   "version": "3.8.7"
  },
  "orig_nbformat": 4
 },
 "nbformat": 4,
 "nbformat_minor": 2
}

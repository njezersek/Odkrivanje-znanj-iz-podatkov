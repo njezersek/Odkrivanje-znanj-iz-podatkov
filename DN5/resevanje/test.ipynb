{
 "cells": [
  {
   "cell_type": "code",
   "execution_count": 2,
   "metadata": {},
   "outputs": [],
   "source": [
    "import numpy as np"
   ]
  },
  {
   "cell_type": "code",
   "execution_count": 39,
   "metadata": {},
   "outputs": [
    {
     "data": {
      "text/plain": [
       "array([[ 1,  2,  3],\n",
       "       [ 4,  5,  6],\n",
       "       [ 7,  8,  9],\n",
       "       [10, 11, 12]])"
      ]
     },
     "execution_count": 39,
     "metadata": {},
     "output_type": "execute_result"
    }
   ],
   "source": [
    "P = np.array([[1, 2, 3], [4, 5, 6], [7, 8, 9], [10, 11, 12]])\n",
    "y = np.array([0, 1, 2])\n",
    "P"
   ]
  },
  {
   "cell_type": "code",
   "execution_count": 41,
   "metadata": {},
   "outputs": [
    {
     "data": {
      "text/plain": [
       "array([[10, 20, 30],\n",
       "       [ 4,  5,  6],\n",
       "       [ 7,  8,  9],\n",
       "       [10, 11, 12]])"
      ]
     },
     "execution_count": 41,
     "metadata": {},
     "output_type": "execute_result"
    }
   ],
   "source": [
    "P * np.array([10, 1, 1, 1]).reshape(-1, 1)"
   ]
  },
  {
   "cell_type": "code",
   "execution_count": 17,
   "metadata": {},
   "outputs": [
    {
     "data": {
      "text/plain": [
       "array([[1., 0., 0.],\n",
       "       [0., 1., 0.],\n",
       "       [0., 0., 1.],\n",
       "       [0., 0., 0.]])"
      ]
     },
     "execution_count": 17,
     "metadata": {},
     "output_type": "execute_result"
    }
   ],
   "source": [
    "np.eye(4)[:,0:3]"
   ]
  },
  {
   "cell_type": "code",
   "execution_count": 6,
   "metadata": {},
   "outputs": [
    {
     "ename": "NameError",
     "evalue": "name 'P' is not defined",
     "output_type": "error",
     "traceback": [
      "\u001b[1;31m---------------------------------------------------------------------------\u001b[0m",
      "\u001b[1;31mNameError\u001b[0m                                 Traceback (most recent call last)",
      "\u001b[1;32m~\\AppData\\Local\\Temp/ipykernel_44660/1127977728.py\u001b[0m in \u001b[0;36m<module>\u001b[1;34m\u001b[0m\n\u001b[1;32m----> 1\u001b[1;33m \u001b[0mP\u001b[0m\u001b[1;33m[\u001b[0m\u001b[1;33m[\u001b[0m\u001b[1;36m1\u001b[0m\u001b[1;33m,\u001b[0m\u001b[1;36m1\u001b[0m\u001b[1;33m,\u001b[0m\u001b[1;36m2\u001b[0m\u001b[1;33m]\u001b[0m\u001b[1;33m,\u001b[0m \u001b[0mnp\u001b[0m\u001b[1;33m.\u001b[0m\u001b[0marange\u001b[0m\u001b[1;33m(\u001b[0m\u001b[0mlen\u001b[0m\u001b[1;33m(\u001b[0m\u001b[0mP\u001b[0m\u001b[1;33m.\u001b[0m\u001b[0mT\u001b[0m\u001b[1;33m)\u001b[0m\u001b[1;33m)\u001b[0m\u001b[1;33m]\u001b[0m \u001b[1;33m=\u001b[0m \u001b[1;36m0\u001b[0m\u001b[1;33m\u001b[0m\u001b[1;33m\u001b[0m\u001b[0m\n\u001b[0m\u001b[0;32m      2\u001b[0m \u001b[0mP\u001b[0m\u001b[1;33m\u001b[0m\u001b[1;33m\u001b[0m\u001b[0m\n",
      "\u001b[1;31mNameError\u001b[0m: name 'P' is not defined"
     ]
    }
   ],
   "source": [
    "P[[1,1,2], np.arange(len(P.T))] = 0\n",
    "P"
   ]
  },
  {
   "cell_type": "code",
   "execution_count": 56,
   "metadata": {},
   "outputs": [
    {
     "data": {
      "text/plain": [
       "array([[ 1,  2,  3],\n",
       "       [ 0,  0,  6],\n",
       "       [ 7,  8,  0],\n",
       "       [10, 11, 12]])"
      ]
     },
     "execution_count": 56,
     "metadata": {},
     "output_type": "execute_result"
    }
   ],
   "source": [
    "results = []\n",
    "for X in np.array_split(P, 2):\n",
    "\tresults.append(X)\n",
    "\n",
    "np.vstack(results)"
   ]
  },
  {
   "cell_type": "code",
   "execution_count": 4,
   "metadata": {},
   "outputs": [],
   "source": [
    "indices = np.random.shuffle(np.arange(10))\n",
    "indices"
   ]
  },
  {
   "cell_type": "code",
   "execution_count": 5,
   "metadata": {},
   "outputs": [],
   "source": [
    "indices"
   ]
  },
  {
   "cell_type": "code",
   "execution_count": 42,
   "metadata": {},
   "outputs": [],
   "source": [
    "import pandas as pd"
   ]
  },
  {
   "cell_type": "code",
   "execution_count": 78,
   "metadata": {},
   "outputs": [],
   "source": [
    "test = pd.read_csv('test.csv')\n",
    "train = pd.read_csv('train.csv')\n",
    "train['target'] = train['target'].factorize()[0]\n",
    "X_test_ids = test['id'].to_numpy()\n",
    "train.drop(['id'], axis=1, inplace=True)\n",
    "test.drop(['id'], axis=1, inplace=True)\n",
    "train = train.to_numpy()\n",
    "X_train = train[:, :-1]\n",
    "y_train = train[:, -1]\n",
    "X_test = test.to_numpy()"
   ]
  },
  {
   "cell_type": "code",
   "execution_count": 79,
   "metadata": {},
   "outputs": [
    {
     "data": {
      "text/plain": [
       "array([    1,     2,     3, ..., 11876, 11877, 11878], dtype=int64)"
      ]
     },
     "execution_count": 79,
     "metadata": {},
     "output_type": "execute_result"
    }
   ],
   "source": [
    "X_test_ids"
   ]
  },
  {
   "cell_type": "code",
   "execution_count": 77,
   "metadata": {},
   "outputs": [
    {
     "data": {
      "text/plain": [
       "(11878, 93)"
      ]
     },
     "execution_count": 77,
     "metadata": {},
     "output_type": "execute_result"
    }
   ],
   "source": [
    "X_test.shape"
   ]
  },
  {
   "cell_type": "code",
   "execution_count": null,
   "metadata": {},
   "outputs": [],
   "source": []
  },
  {
   "cell_type": "code",
   "execution_count": 113,
   "metadata": {},
   "outputs": [],
   "source": [
    "def softmax(parameters, X):\n",
    "\t\"\"\"\n",
    "\tArgs:\n",
    "\t\tparameters (1d n*r numpy array): r is the number of classes and n is the number of attributes\n",
    "\t\tX (2d m*n numpy array): m rows where each row is a sample with n attributes\n",
    "\n",
    "\tReturns:\n",
    "\t\t2d m*r numpy array: each row is a sample with r probabilities\n",
    "\t\"\"\"\n",
    "\tparameters = parameters.reshape(X.shape[1], -1)\n",
    "\tP = np.exp(X @ parameters)\n",
    "\treturn P / np.sum(P, axis=1, keepdims=True)    "
   ]
  },
  {
   "cell_type": "code",
   "execution_count": 95,
   "metadata": {},
   "outputs": [
    {
     "name": "stdout",
     "output_type": "stream",
     "text": [
      "[[10  0  0]\n",
      " [ 0 10 10]]\n",
      "[[10  0  0]\n",
      " [ 0 10 10]]\n",
      "[[2.20264658e+04 1.00000000e+00 1.00000000e+00]\n",
      " [1.00000000e+00 2.20264658e+04 2.20264658e+04]]\n"
     ]
    },
    {
     "data": {
      "text/plain": [
       "array([[9.99909208e-01, 4.53958078e-05, 4.53958078e-05],\n",
       "       [2.26994496e-05, 4.99988650e-01, 4.99988650e-01]])"
      ]
     },
     "execution_count": 95,
     "metadata": {},
     "output_type": "execute_result"
    }
   ],
   "source": [
    "softmax(\n",
    "\tnp.array([\n",
    "\t\t[10,0,0],\n",
    "\t\t[0,10,10]\n",
    "\t]),\n",
    "\tnp.array([[1,0],[0,1]]),\n",
    ")"
   ]
  },
  {
   "cell_type": "code",
   "execution_count": 109,
   "metadata": {},
   "outputs": [],
   "source": [
    "def cost(parameters, X, y, lambda_=0.0):\n",
    "    \"\"\"\n",
    "    Args:\n",
    "        parameters (1d n*r numpy array): r is the number of classes and n is the number of attributes\n",
    "        X (2d m*n numpy array): m rows where each row is a sample with n attributes\n",
    "        y (1d m numpy array): class labels for each sample\n",
    "        lambda_ (number): regularization parameter \n",
    "\n",
    "    Returns:\n",
    "        number: cost of the model\n",
    "    \"\"\"\n",
    "    P = softmax(parameters, X)\n",
    "    return np.sum(np.log(P[np.arange(len(P)), y])) - lambda_ * np.sum(parameters ** 2)"
   ]
  },
  {
   "cell_type": "code",
   "execution_count": 105,
   "metadata": {},
   "outputs": [
    {
     "name": "stdout",
     "output_type": "stream",
     "text": [
      "[[10  0  0]\n",
      " [ 0 10 10]]\n",
      "[[10  0  0]\n",
      " [ 0 10 10]]\n",
      "[[2.20264658e+04 1.00000000e+00 1.00000000e+00]\n",
      " [1.00000000e+00 2.20264658e+04 2.20264658e+04]]\n"
     ]
    },
    {
     "data": {
      "text/plain": [
       "-20.693260676004655"
      ]
     },
     "execution_count": 105,
     "metadata": {},
     "output_type": "execute_result"
    }
   ],
   "source": [
    "cost(np.array([\n",
    "\t\t[10,0,0],\n",
    "\t\t[0,10,10]\n",
    "\t]),\n",
    "\tnp.array([[1,0],[0,1]]),\n",
    "\tnp.array([1,0]))"
   ]
  },
  {
   "cell_type": "code",
   "execution_count": 111,
   "metadata": {},
   "outputs": [],
   "source": [
    "\n",
    "def grad(parameters, X, y, lambda_=0):\n",
    "    \"\"\"\n",
    "    Args:\n",
    "        parameters (1d n*r numpy array): r is the number of classes and n is the number of attributes\n",
    "        X (2d m*n numpy array): m rows where each row is a sample with n attributes\n",
    "        y (1d m numpy array): class labels for each sample\n",
    "        lambda_ (number): regularization parameter \n",
    "\n",
    "    Returns:\n",
    "        1d n*r numpy array: gradient of the cost function with respect to the parameters\n",
    "    \"\"\"\n",
    "    P = softmax(parameters, X)\n",
    "    parameters = parameters.reshape(X.shape[1], -1)\n",
    "    E = np.zeros_like(P)\n",
    "    E[np.arange(len(P)), y] = 1\n",
    "    grad = X.T @ (E-P) - 2 * lambda_ * parameters\n",
    "    return grad.flatten()"
   ]
  },
  {
   "cell_type": "code",
   "execution_count": 115,
   "metadata": {},
   "outputs": [
    {
     "data": {
      "text/plain": [
       "array([[-9.99909208e-01,  9.99954604e-01, -4.53958078e-05],\n",
       "       [ 9.99977301e-01, -4.99988650e-01, -4.99988650e-01]])"
      ]
     },
     "execution_count": 115,
     "metadata": {},
     "output_type": "execute_result"
    }
   ],
   "source": [
    "grad(np.array([\n",
    "\t\t[10,0,0],\n",
    "\t\t[0,10,10]\n",
    "\t]),\n",
    "\tnp.array([[1,0],[0,1]]),\n",
    "\tnp.array([1,0])).reshape(2,3)"
   ]
  }
 ],
 "metadata": {
  "interpreter": {
   "hash": "570feb405e2e27c949193ac68f46852414290d515b0ba6e5d90d076ed2284471"
  },
  "kernelspec": {
   "display_name": "Python 3.8.7 64-bit",
   "language": "python",
   "name": "python3"
  },
  "language_info": {
   "codemirror_mode": {
    "name": "ipython",
    "version": 3
   },
   "file_extension": ".py",
   "mimetype": "text/x-python",
   "name": "python",
   "nbconvert_exporter": "python",
   "pygments_lexer": "ipython3",
   "version": "3.8.7"
  },
  "orig_nbformat": 4
 },
 "nbformat": 4,
 "nbformat_minor": 2
}
